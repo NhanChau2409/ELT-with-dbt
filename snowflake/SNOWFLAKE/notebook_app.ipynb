{
 "metadata": {
  "kernelspec": {
   "display_name": "Streamlit Notebook",
   "name": "streamlit"
  }
 },
 "nbformat_minor": 5,
 "nbformat": 4,
 "cells": [
  {
   "cell_type": "code",
   "id": "885bb7fc-6e48-4751-8d76-7ee03da540fd",
   "metadata": {
    "language": "sql",
    "name": "github_intergration"
   },
   "outputs": [],
   "source": "CREATE OR REPLACE API INTEGRATION github\n    api_provider = git_https_api\n    api_allowed_prefixes = ('https://github.com/<your_profile>')\n    enabled = true\n    allowed_authentication_secrets = all",
   "execution_count": null
  },
  {
   "cell_type": "code",
   "id": "041cdb44-d544-4f23-9641-8d25fed86eff",
   "metadata": {
    "language": "sql",
    "name": "s3_intergration",
    "collapsed": false
   },
   "outputs": [],
   "source": "USE SCHEMA FLIGHTS.PUBLIC;\n\nCREATE OR REPLACE STAGE s3_stage\n  URL='s3://<your_bucket_name>/'\n  CREDENTIALS=(AWS_KEY_ID='<snowflake_user_access_key_id>' AWS_SECRET_KEY='snowflake_user_secret');",
   "execution_count": null
  },
  {
   "cell_type": "code",
   "id": "28debf74-476d-4031-abc1-b19c9b4f098f",
   "metadata": {
    "language": "sql",
    "name": "cell1",
    "collapsed": false
   },
   "outputs": [],
   "source": "DESC STAGE s3_stage;",
   "execution_count": null
  }
 ]
}