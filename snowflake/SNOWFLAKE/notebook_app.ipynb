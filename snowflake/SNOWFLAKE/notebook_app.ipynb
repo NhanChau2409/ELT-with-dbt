{
 "metadata": {
  "kernelspec": {
   "display_name": "Streamlit Notebook",
   "name": "streamlit"
  }
 },
 "nbformat_minor": 5,
 "nbformat": 4,
 "cells": [
  {
   "cell_type": "code",
   "id": "885bb7fc-6e48-4751-8d76-7ee03da540fd",
   "metadata": {
    "language": "sql",
    "name": "github_intergration"
   },
   "outputs": [],
   "source": "CREATE OR REPLACE API INTEGRATION github\n    api_provider = git_https_api\n    api_allowed_prefixes = ('https://github.com/<your_profile>')\n    enabled = true\n    allowed_authentication_secrets = all",
   "execution_count": null
  },
  {
   "cell_type": "code",
   "id": "8dde82a1-e13f-4034-9162-86faf8dd4488",
   "metadata": {
    "language": "sql",
    "name": "create_dbt_sso",
    "collapsed": false
   },
   "outputs": [],
   "source": "CREATE OR REPLACE SECURITY INTEGRATION DBT_CLOUD\n  TYPE = OAUTH\n  ENABLED = TRUE\n  OAUTH_CLIENT = CUSTOM\n  OAUTH_CLIENT_TYPE = 'CONFIDENTIAL'\n  OAUTH_REDIRECT_URI = '<REDIRECT_URI>'\n  OAUTH_ISSUE_REFRESH_TOKENS = TRUE\n  OAUTH_REFRESH_TOKEN_VALIDITY = 7776000;",
   "execution_count": null
  },
  {
   "cell_type": "code",
   "id": "c2b0fafe-d55e-4e79-b315-400cef126209",
   "metadata": {
    "language": "sql",
    "name": "get_dbt_sso",
    "collapsed": false
   },
   "outputs": [],
   "source": "with\n\nintegration_secrets as (\n  select parse_json(system$show_oauth_client_secrets('DBT_CLOUD')) as secrets\n)\n\nselect\n  secrets:\"OAUTH_CLIENT_ID\"::string     as client_id,\n  secrets:\"OAUTH_CLIENT_SECRET\"::string as client_secret\nfrom\n  integration_secrets;",
   "execution_count": null
  },
  {
   "cell_type": "code",
   "id": "041cdb44-d544-4f23-9641-8d25fed86eff",
   "metadata": {
    "language": "sql",
    "name": "s3_intergration",
    "collapsed": false
   },
   "outputs": [],
   "source": "USE SCHEMA FLIGHTS.PUBLIC;\n\nCREATE OR REPLACE STAGE s3_stage\n  URL='s3://project-flight-data-bucket/'\n  CREDENTIALS=(AWS_KEY_ID='<key>' AWS_SECRET_KEY='<secret>');",
   "execution_count": null
  },
  {
   "cell_type": "code",
   "id": "3fa83234-1df9-4b0a-9a7d-6e811381b1d7",
   "metadata": {
    "language": "sql",
    "name": "cell3",
    "collapsed": false
   },
   "outputs": [],
   "source": "CREATE OR REPLACE FILE FORMAT csv_format\n  TYPE = 'CSV'\n  FIELD_DELIMITER = '|'\n  SKIP_HEADER = 1\n  FIELD_OPTIONALLY_ENCLOSED_BY = '\"'\n  ESCAPE_UNENCLOSED_FIELD = None\n  NULL_IF = ('NULL', 'null', '');\n",
   "execution_count": null
  },
  {
   "cell_type": "code",
   "id": "0a4feeab-f22c-4757-b49f-0a737f4615d5",
   "metadata": {
    "language": "sql",
    "name": "s3_stage_into_table",
    "collapsed": false
   },
   "outputs": [],
   "source": "CREATE OR REPLACE TABLE s3 (\n    airport_icao STRING,\n    timestamp TIMESTAMP,\n    fromdate TIMESTAMP,\n    todate TIMESTAMP,\n    response_code INTEGER,\n    response VARIANT\n);",
   "execution_count": null
  },
  {
   "cell_type": "code",
   "id": "b2d8c555-336e-4076-8223-ccace4c88513",
   "metadata": {
    "language": "sql",
    "name": "cell1",
    "codeCollapsed": false,
    "collapsed": false
   },
   "outputs": [],
   "source": "COPY INTO s3\nFROM @s3_stage\nFILE_FORMAT = csv_format\nON_ERROR = 'CONTINUE';",
   "execution_count": null
  }
 ]
}